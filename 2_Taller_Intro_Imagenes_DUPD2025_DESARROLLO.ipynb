{
  "cells": [
    {
      "cell_type": "markdown",
      "metadata": {
        "id": "view-in-github",
        "colab_type": "text"
      },
      "source": [
        "<a href=\"https://colab.research.google.com/github/jesusalvarado2023/OpenCV_curso/blob/main/2_Taller_Intro_Imagenes_DUPD2025_DESARROLLO.ipynb\" target=\"_parent\"><img src=\"https://colab.research.google.com/assets/colab-badge.svg\" alt=\"Open In Colab\"/></a>"
      ]
    },
    {
      "cell_type": "markdown",
      "source": [
        "<img src=\"https://miro.medium.com/v2/resize:fit:1400/1*zomnCz8-VMgrSV8eLCx2tw.gif\" width=\"200\" alt=\"molecula\"  />\n",
        "\n",
        "$$\\Large \\textit{Cuaderno de Código | Taller Nº 1}$$\n",
        "\n",
        "---\n",
        "$$\\large\\textbf{2. Desarrollo del Modelo Clasificador}$$\n",
        "\n",
        "---\n",
        "$$\\textit{Curso: Aplicaciones de IA en Imágenes para Docentes Universitarios}$$\n",
        "\n",
        "<br>\n",
        "<br>\n",
        "\n",
        "__Dr. Jesus Alvarado-Huayhuaz__"
      ],
      "metadata": {
        "id": "K5gRREhU3Eyp"
      }
    },
    {
      "cell_type": "markdown",
      "metadata": {
        "id": "IWmnh3XsFNGf"
      },
      "source": [
        "# Convolutional Neural Networks"
      ]
    },
    {
      "cell_type": "markdown",
      "metadata": {
        "id": "9Dn6y0M0FNGk"
      },
      "source": [
        "# Importar Librerías"
      ]
    },
    {
      "cell_type": "code",
      "execution_count": null,
      "metadata": {
        "ExecuteTime": {
          "end_time": "2018-11-08T00:12:59.231970Z",
          "start_time": "2018-11-08T00:12:51.800950Z"
        },
        "id": "JJe3RIa6FNGl"
      },
      "outputs": [],
      "source": [
        "import numpy as np\n",
        "import os\n",
        "import re\n",
        "import matplotlib.pyplot as plt\n",
        "%matplotlib inline\n",
        "from sklearn.model_selection import train_test_split\n",
        "from sklearn.metrics import classification_report"
      ]
    },
    {
      "cell_type": "code",
      "source": [
        "import keras\n",
        "from keras.utils import to_categorical\n",
        "from tensorflow.keras.models import Sequential,Model\n",
        "from tensorflow.keras.layers import Dense, Dropout, Flatten, Input, BatchNormalization, Conv2D, MaxPooling2D, LeakyReLU"
      ],
      "metadata": {
        "id": "JAVwxeLWHMn4"
      },
      "execution_count": null,
      "outputs": []
    },
    {
      "cell_type": "code",
      "source": [
        "from google.colab import drive\n",
        "drive.mount('/content/drive')"
      ],
      "metadata": {
        "colab": {
          "base_uri": "https://localhost:8080/"
        },
        "id": "UZ2sm5g0HR5P",
        "outputId": "502fb6bd-4d4a-4bad-c924-5479dd762928"
      },
      "execution_count": null,
      "outputs": [
        {
          "output_type": "stream",
          "name": "stdout",
          "text": [
            "Mounted at /content/drive\n"
          ]
        }
      ]
    },
    {
      "cell_type": "markdown",
      "source": [
        "/content/drive/MyDrive/2025_2/VISION_DUPD/Base_de_datos"
      ],
      "metadata": {
        "id": "c3u4xOCOIIzo"
      }
    },
    {
      "cell_type": "markdown",
      "metadata": {
        "id": "nhkKn8GvFNGn"
      },
      "source": [
        "# Cargar set de Imágenes"
      ]
    },
    {
      "cell_type": "code",
      "source": [
        "%cd /content/drive/MyDrive/2025_2/VISION_DUPD/Base_de_datos"
      ],
      "metadata": {
        "colab": {
          "base_uri": "https://localhost:8080/"
        },
        "id": "bDB_5XIpIP34",
        "outputId": "e5a39fc2-b2c8-4111-c656-2058a7e9bb5e"
      },
      "execution_count": null,
      "outputs": [
        {
          "output_type": "stream",
          "name": "stdout",
          "text": [
            "/content/drive/MyDrive/2025_2/VISION_DUPD/Base_de_datos\n"
          ]
        }
      ]
    },
    {
      "cell_type": "code",
      "source": [
        "!ls"
      ],
      "metadata": {
        "colab": {
          "base_uri": "https://localhost:8080/"
        },
        "id": "_dBVQEb6IfxM",
        "outputId": "75a2bd8f-b88c-4671-9300-3feec8cc4a58"
      },
      "execution_count": null,
      "outputs": [
        {
          "output_type": "stream",
          "name": "stdout",
          "text": [
            "aprendeml-book-extras.zip  aprendeml.epub  aprendeml.pdf  sportimages.zip\n"
          ]
        }
      ]
    },
    {
      "cell_type": "code",
      "source": [
        "!unzip -uq 'sportimages.zip' -d 'sportimages'"
      ],
      "metadata": {
        "id": "PS5aVQCWISWP"
      },
      "execution_count": null,
      "outputs": []
    },
    {
      "cell_type": "markdown",
      "source": [
        "13.22-13:28"
      ],
      "metadata": {
        "id": "uK8B9Sx_OCZr"
      }
    },
    {
      "cell_type": "code",
      "execution_count": null,
      "metadata": {
        "ExecuteTime": {
          "end_time": "2018-11-08T00:16:45.248080Z",
          "start_time": "2018-11-08T00:13:12.553292Z"
        },
        "scrolled": true,
        "id": "5uZaiJJwFNGn",
        "outputId": "e127caa3-c15e-4133-d4f4-544a568a6e2e",
        "colab": {
          "base_uri": "https://localhost:8080/"
        }
      },
      "outputs": [
        {
          "output_type": "stream",
          "name": "stdout",
          "text": [
            "leyendo imagenes de  /content/drive/MyDrive/2025_2/VISION_DUPD/Base_de_datos/sportimages/\n",
            "/content/drive/MyDrive/2025_2/VISION_DUPD/Base_de_datos/sportimages/sportimages/golf 1\n",
            "/content/drive/MyDrive/2025_2/VISION_DUPD/Base_de_datos/sportimages/sportimages/basket 9768\n",
            "/content/drive/MyDrive/2025_2/VISION_DUPD/Base_de_datos/sportimages/sportimages/tenis 8823\n",
            "/content/drive/MyDrive/2025_2/VISION_DUPD/Base_de_datos/sportimages/sportimages/natacion 8937\n",
            "/content/drive/MyDrive/2025_2/VISION_DUPD/Base_de_datos/sportimages/sportimages/ciclismo 5172\n",
            "/content/drive/MyDrive/2025_2/VISION_DUPD/Base_de_datos/sportimages/sportimages/beisball 7533\n",
            "/content/drive/MyDrive/2025_2/VISION_DUPD/Base_de_datos/sportimages/sportimages/futbol 7752\n",
            "/content/drive/MyDrive/2025_2/VISION_DUPD/Base_de_datos/sportimages/sportimages/americano 7617\n",
            "/content/drive/MyDrive/2025_2/VISION_DUPD/Base_de_datos/sportimages/sportimages/f1 9348\n",
            "/content/drive/MyDrive/2025_2/VISION_DUPD/Base_de_datos/sportimages/sportimages/boxeo 5053\n",
            "Directorios leidos: 10\n",
            "Imagenes en cada directorio [9769, 8823, 8937, 5172, 7533, 7752, 7617, 9348, 5053, 7124]\n",
            "suma Total de imagenes en subdirs: 77128\n"
          ]
        }
      ],
      "source": [
        "dirname = os.path.join(os.getcwd(), 'sportimages')\n",
        "imgpath = dirname + os.sep\n",
        "\n",
        "images = []\n",
        "directories = []\n",
        "dircount = []\n",
        "prevRoot=''\n",
        "cant=0\n",
        "\n",
        "print(\"leyendo imagenes de \",imgpath)\n",
        "\n",
        "for root, dirnames, filenames in os.walk(imgpath):\n",
        "    for filename in filenames:\n",
        "        if re.search(\"\\.(jpg|jpeg|png|bmp|tiff)$\", filename):\n",
        "            cant=cant+1\n",
        "            filepath = os.path.join(root, filename)\n",
        "            image = plt.imread(filepath)\n",
        "            images.append(image)\n",
        "            b = \"Leyendo...\" + str(cant)\n",
        "            print (b, end=\"\\r\")\n",
        "            if prevRoot !=root:\n",
        "                print(root, cant)\n",
        "                prevRoot=root\n",
        "                directories.append(root)\n",
        "                dircount.append(cant)\n",
        "                cant=0\n",
        "dircount.append(cant)\n",
        "\n",
        "dircount = dircount[1:]\n",
        "dircount[0]=dircount[0]+1\n",
        "print('Directorios leidos:',len(directories))\n",
        "print(\"Imagenes en cada directorio\", dircount)\n",
        "print('suma Total de imagenes en subdirs:',sum(dircount))"
      ]
    },
    {
      "cell_type": "markdown",
      "metadata": {
        "id": "5sUVIVrLFNGo"
      },
      "source": [
        "# Creamos las etiquetas"
      ]
    },
    {
      "cell_type": "code",
      "execution_count": null,
      "metadata": {
        "ExecuteTime": {
          "end_time": "2018-11-08T00:16:45.269861Z",
          "start_time": "2018-11-08T00:16:45.251786Z"
        },
        "id": "eCV_YYuIFNGo",
        "outputId": "c97eb69a-1292-430c-d95b-8f0625ac3ad0",
        "colab": {
          "base_uri": "https://localhost:8080/"
        }
      },
      "outputs": [
        {
          "output_type": "stream",
          "name": "stdout",
          "text": [
            "Cantidad etiquetas creadas:  77128\n"
          ]
        }
      ],
      "source": [
        "labels=[]\n",
        "indice=0\n",
        "for cantidad in dircount:\n",
        "    for i in range(cantidad):\n",
        "        labels.append(indice)\n",
        "    indice=indice+1\n",
        "print(\"Cantidad etiquetas creadas: \",len(labels))"
      ]
    },
    {
      "cell_type": "code",
      "source": [
        "deportes"
      ],
      "metadata": {
        "colab": {
          "base_uri": "https://localhost:8080/"
        },
        "id": "DZSzY_-dc8PZ",
        "outputId": "b034668c-da3e-486d-86db-e07897bb43fa"
      },
      "execution_count": null,
      "outputs": [
        {
          "output_type": "execute_result",
          "data": {
            "text/plain": [
              "['golf',\n",
              " 'basket',\n",
              " 'tenis',\n",
              " 'natacion',\n",
              " 'ciclismo',\n",
              " 'beisball',\n",
              " 'futbol',\n",
              " 'americano',\n",
              " 'f1',\n",
              " 'boxeo']"
            ]
          },
          "metadata": {},
          "execution_count": 56
        }
      ]
    },
    {
      "cell_type": "code",
      "execution_count": null,
      "metadata": {
        "ExecuteTime": {
          "end_time": "2018-11-08T00:16:45.285925Z",
          "start_time": "2018-11-08T00:16:45.273489Z"
        },
        "id": "RX7Px5r5FNGp",
        "outputId": "6312631e-b651-4b59-aab7-af4620a38b02",
        "colab": {
          "base_uri": "https://localhost:8080/"
        }
      },
      "outputs": [
        {
          "output_type": "stream",
          "name": "stdout",
          "text": [
            "0 golf\n",
            "1 basket\n",
            "2 tenis\n",
            "3 natacion\n",
            "4 ciclismo\n",
            "5 beisball\n",
            "6 futbol\n",
            "7 americano\n",
            "8 f1\n",
            "9 boxeo\n"
          ]
        }
      ],
      "source": [
        "deportes=[]\n",
        "indice=0\n",
        "for directorio in directories:\n",
        "    name = directorio.split(os.sep)\n",
        "    print(indice , name[len(name)-1])\n",
        "    deportes.append(name[len(name)-1])\n",
        "    indice=indice+1"
      ]
    },
    {
      "cell_type": "code",
      "execution_count": null,
      "metadata": {
        "ExecuteTime": {
          "end_time": "2018-11-08T00:16:45.498672Z",
          "start_time": "2018-11-08T00:16:45.290061Z"
        },
        "id": "nN8R6ukrFNGp",
        "outputId": "322b1b23-0e12-4855-efb6-3e660fa4b0fe",
        "colab": {
          "base_uri": "https://localhost:8080/"
        }
      },
      "outputs": [
        {
          "output_type": "stream",
          "name": "stdout",
          "text": [
            "Total number of outputs :  10\n",
            "Output classes :  [0 1 2 3 4 5 6 7 8 9]\n"
          ]
        }
      ],
      "source": [
        "y = np.array(labels)\n",
        "X = np.array(images, dtype=np.uint8) #convierto de lista a numpy\n",
        "\n",
        "# Find the unique numbers from the train labels\n",
        "classes = np.unique(y)\n",
        "nClasses = len(classes)\n",
        "print('Total number of outputs : ', nClasses)\n",
        "print('Output classes : ', classes)"
      ]
    },
    {
      "cell_type": "markdown",
      "metadata": {
        "id": "ecl49jWBFNGp"
      },
      "source": [
        "# Creamos Sets de Entrenamiento y Test"
      ]
    },
    {
      "cell_type": "code",
      "execution_count": null,
      "metadata": {
        "ExecuteTime": {
          "end_time": "2018-11-08T00:16:45.669596Z",
          "start_time": "2018-11-08T00:16:45.502716Z"
        },
        "id": "mDfOxdKaFNGp",
        "outputId": "cbc6f86c-0a7b-4c70-d4bf-3d9aac50ce99",
        "colab": {
          "base_uri": "https://localhost:8080/"
        }
      },
      "outputs": [
        {
          "output_type": "stream",
          "name": "stdout",
          "text": [
            "Training data shape :  (61702, 21, 28, 3) (61702,)\n",
            "Testing data shape :  (15426, 21, 28, 3) (15426,)\n"
          ]
        }
      ],
      "source": [
        "train_X,test_X,train_Y,test_Y = train_test_split(X,y,test_size=0.2)\n",
        "print('Training data shape : ', train_X.shape, train_Y.shape)\n",
        "print('Testing data shape : ', test_X.shape, test_Y.shape)"
      ]
    },
    {
      "cell_type": "code",
      "execution_count": null,
      "metadata": {
        "ExecuteTime": {
          "end_time": "2018-11-08T00:16:49.319746Z",
          "start_time": "2018-11-08T00:16:45.673944Z"
        },
        "id": "VfZT0nZxFNGq",
        "outputId": "c1b526b1-68e0-481f-9040-88b03f6c3483",
        "colab": {
          "base_uri": "https://localhost:8080/",
          "height": 232
        }
      },
      "outputs": [
        {
          "output_type": "execute_result",
          "data": {
            "text/plain": [
              "Text(0.5, 1.0, 'Ground Truth : 7')"
            ]
          },
          "metadata": {},
          "execution_count": 23
        },
        {
          "output_type": "display_data",
          "data": {
            "text/plain": [
              "<Figure size 500x500 with 2 Axes>"
            ],
            "image/png": "[encoded data removed]"
          },
          "metadata": {}
        }
      ],
      "source": [
        "plt.figure(figsize=[5,5])\n",
        "\n",
        "# Display the first image in training data\n",
        "plt.subplot(121)\n",
        "plt.imshow(train_X[0,:,:], cmap='gray')\n",
        "plt.title(\"Ground Truth : {}\".format(train_Y[0]))\n",
        "\n",
        "# Display the first image in testing data\n",
        "plt.subplot(122)\n",
        "plt.imshow(test_X[0,:,:], cmap='gray')\n",
        "plt.title(\"Ground Truth : {}\".format(test_Y[0]))"
      ]
    },
    {
      "cell_type": "markdown",
      "metadata": {
        "id": "gBUigQmTFNGq"
      },
      "source": [
        "# Preprocesamos las imagenes"
      ]
    },
    {
      "cell_type": "code",
      "execution_count": null,
      "metadata": {
        "ExecuteTime": {
          "end_time": "2018-11-08T00:16:50.798162Z",
          "start_time": "2018-11-08T00:16:49.322999Z"
        },
        "id": "CwiYi9LmFNGq"
      },
      "outputs": [],
      "source": [
        "train_X = train_X.astype('float32')\n",
        "test_X = test_X.astype('float32')\n",
        "train_X = train_X / 255.\n",
        "test_X = test_X / 255."
      ]
    },
    {
      "cell_type": "markdown",
      "metadata": {
        "id": "snCdQUznFNGq"
      },
      "source": [
        "## Hacemos el One-hot Encoding para la red"
      ]
    },
    {
      "cell_type": "code",
      "execution_count": null,
      "metadata": {
        "ExecuteTime": {
          "end_time": "2018-11-08T00:16:50.815482Z",
          "start_time": "2018-11-08T00:16:50.800831Z"
        },
        "id": "qdo2XNDFFNGq",
        "outputId": "ed61661f-0eb8-4fe9-80e8-7608afefce09",
        "colab": {
          "base_uri": "https://localhost:8080/"
        }
      },
      "outputs": [
        {
          "output_type": "stream",
          "name": "stdout",
          "text": [
            "Original label: 9\n",
            "After conversion to one-hot: [0. 0. 0. 0. 0. 0. 0. 0. 0. 1.]\n"
          ]
        }
      ],
      "source": [
        "# Change the labels from categorical to one-hot encoding\n",
        "train_Y_one_hot = to_categorical(train_Y)\n",
        "test_Y_one_hot = to_categorical(test_Y)\n",
        "\n",
        "# Display the change for category label using one-hot encoding\n",
        "print('Original label:', train_Y[0])\n",
        "print('After conversion to one-hot:', train_Y_one_hot[0])"
      ]
    },
    {
      "cell_type": "markdown",
      "metadata": {
        "id": "yxxGr6GYFNGr"
      },
      "source": [
        "# Creamos el Set de Entrenamiento y Validación"
      ]
    },
    {
      "cell_type": "code",
      "execution_count": null,
      "metadata": {
        "ExecuteTime": {
          "end_time": "2018-11-08T00:16:51.218520Z",
          "start_time": "2018-11-08T00:16:50.818992Z"
        },
        "id": "SibSWuEUFNGr"
      },
      "outputs": [],
      "source": [
        "#Mezclar todo y crear los grupos de entrenamiento y testing\n",
        "train_X,valid_X,train_label,valid_label = train_test_split(train_X, train_Y_one_hot, test_size=0.2, random_state=13)"
      ]
    },
    {
      "cell_type": "code",
      "execution_count": null,
      "metadata": {
        "ExecuteTime": {
          "end_time": "2018-11-08T00:16:51.228116Z",
          "start_time": "2018-11-08T00:16:51.222460Z"
        },
        "id": "LcSXDO1TFNGr",
        "outputId": "21f2de62-a20a-4c60-b6d0-0a804b960294",
        "colab": {
          "base_uri": "https://localhost:8080/"
        }
      },
      "outputs": [
        {
          "output_type": "stream",
          "name": "stdout",
          "text": [
            "(49361, 21, 28, 3) (12341, 21, 28, 3) (49361, 10) (12341, 10)\n"
          ]
        }
      ],
      "source": [
        "print(train_X.shape,valid_X.shape,train_label.shape,valid_label.shape)"
      ]
    },
    {
      "cell_type": "markdown",
      "metadata": {
        "id": "MFTHLCuJFNGr"
      },
      "source": [
        "# Creamos el modelo de CNN"
      ]
    },
    {
      "cell_type": "code",
      "execution_count": null,
      "metadata": {
        "ExecuteTime": {
          "end_time": "2018-11-08T00:16:51.244776Z",
          "start_time": "2018-11-08T00:16:51.238704Z"
        },
        "id": "pTPVlk62FNGr"
      },
      "outputs": [],
      "source": [
        "#declaramos variables con los parámetros de configuración de la red\n",
        "INIT_LR = 1e-3 # Valor inicial de learning rate. El valor 1e-3 corresponde con 0.001\n",
        "epochs = 6 # Cantidad de iteraciones completas al conjunto de imagenes de entrenamiento\n",
        "batch_size = 64 # cantidad de imágenes que se toman a la vez en memoria"
      ]
    },
    {
      "cell_type": "code",
      "execution_count": null,
      "metadata": {
        "ExecuteTime": {
          "end_time": "2018-11-08T00:16:51.384131Z",
          "start_time": "2018-11-08T00:16:51.252188Z"
        },
        "id": "e8hY_u3IFNGr",
        "colab": {
          "base_uri": "https://localhost:8080/"
        },
        "outputId": "3b24e230-518c-4965-f941-666febe1b9e3"
      },
      "outputs": [
        {
          "output_type": "stream",
          "name": "stderr",
          "text": [
            "/usr/local/lib/python3.11/dist-packages/keras/src/layers/convolutional/base_conv.py:113: UserWarning: Do not pass an `input_shape`/`input_dim` argument to a layer. When using Sequential models, prefer using an `Input(shape)` object as the first layer in the model instead.\n",
            "  super().__init__(activity_regularizer=activity_regularizer, **kwargs)\n",
            "/usr/local/lib/python3.11/dist-packages/keras/src/layers/activations/leaky_relu.py:41: UserWarning: Argument `alpha` is deprecated. Use `negative_slope` instead.\n",
            "  warnings.warn(\n"
          ]
        }
      ],
      "source": [
        "sport_model = Sequential()\n",
        "sport_model.add(Conv2D(32, kernel_size=(3, 3),activation='linear',padding='same',input_shape=(21,28,3)))\n",
        "sport_model.add(LeakyReLU(alpha=0.1))\n",
        "sport_model.add(MaxPooling2D((2, 2),padding='same'))\n",
        "sport_model.add(Dropout(0.5))\n",
        "\n",
        "sport_model.add(Flatten())\n",
        "sport_model.add(Dense(32, activation='linear'))\n",
        "sport_model.add(LeakyReLU(alpha=0.1))\n",
        "sport_model.add(Dropout(0.5))\n",
        "sport_model.add(Dense(nClasses, activation='softmax'))"
      ]
    },
    {
      "cell_type": "code",
      "source": [
        "sport_model.summary()"
      ],
      "metadata": {
        "colab": {
          "base_uri": "https://localhost:8080/",
          "height": 417
        },
        "id": "NctAtZuOSdhG",
        "outputId": "f9784479-6946-468c-aa4c-fffb9aad1057"
      },
      "execution_count": null,
      "outputs": [
        {
          "output_type": "display_data",
          "data": {
            "text/plain": [
              "\u001b[1mModel: \"sequential\"\u001b[0m\n"
            ],
            "text/html": [
              "<pre style=\"white-space:pre;overflow-x:auto;line-height:normal;font-family:Menlo,'DejaVu Sans Mono',consolas,'Courier New',monospace\"><span style=\"font-weight: bold\">Model: \"sequential\"</span>\n",
              "</pre>\n"
            ]
          },
          "metadata": {}
        },
        {
          "output_type": "display_data",
          "data": {
            "text/plain": [
              "┏━━━━━━━━━━━━━━━━━━━━━━━━━━━━━━━━━┳━━━━━━━━━━━━━━━━━━━━━━━━┳━━━━━━━━━━━━━━━┓\n",
              "┃\u001b[1m \u001b[0m\u001b[1mLayer (type)                   \u001b[0m\u001b[1m \u001b[0m┃\u001b[1m \u001b[0m\u001b[1mOutput Shape          \u001b[0m\u001b[1m \u001b[0m┃\u001b[1m \u001b[0m\u001b[1m      Param #\u001b[0m\u001b[1m \u001b[0m┃\n",
              "┡━━━━━━━━━━━━━━━━━━━━━━━━━━━━━━━━━╇━━━━━━━━━━━━━━━━━━━━━━━━╇━━━━━━━━━━━━━━━┩\n",
              "│ conv2d (\u001b[38;5;33mConv2D\u001b[0m)                 │ (\u001b[38;5;45mNone\u001b[0m, \u001b[38;5;34m21\u001b[0m, \u001b[38;5;34m28\u001b[0m, \u001b[38;5;34m32\u001b[0m)     │           \u001b[38;5;34m896\u001b[0m │\n",
              "├─────────────────────────────────┼────────────────────────┼───────────────┤\n",
              "│ leaky_re_lu (\u001b[38;5;33mLeakyReLU\u001b[0m)         │ (\u001b[38;5;45mNone\u001b[0m, \u001b[38;5;34m21\u001b[0m, \u001b[38;5;34m28\u001b[0m, \u001b[38;5;34m32\u001b[0m)     │             \u001b[38;5;34m0\u001b[0m │\n",
              "├─────────────────────────────────┼────────────────────────┼───────────────┤\n",
              "│ max_pooling2d (\u001b[38;5;33mMaxPooling2D\u001b[0m)    │ (\u001b[38;5;45mNone\u001b[0m, \u001b[38;5;34m11\u001b[0m, \u001b[38;5;34m14\u001b[0m, \u001b[38;5;34m32\u001b[0m)     │             \u001b[38;5;34m0\u001b[0m │\n",
              "├─────────────────────────────────┼────────────────────────┼───────────────┤\n",
              "│ dropout (\u001b[38;5;33mDropout\u001b[0m)               │ (\u001b[38;5;45mNone\u001b[0m, \u001b[38;5;34m11\u001b[0m, \u001b[38;5;34m14\u001b[0m, \u001b[38;5;34m32\u001b[0m)     │             \u001b[38;5;34m0\u001b[0m │\n",
              "├─────────────────────────────────┼────────────────────────┼───────────────┤\n",
              "│ flatten (\u001b[38;5;33mFlatten\u001b[0m)               │ (\u001b[38;5;45mNone\u001b[0m, \u001b[38;5;34m4928\u001b[0m)           │             \u001b[38;5;34m0\u001b[0m │\n",
              "├─────────────────────────────────┼────────────────────────┼───────────────┤\n",
              "│ dense (\u001b[38;5;33mDense\u001b[0m)                   │ (\u001b[38;5;45mNone\u001b[0m, \u001b[38;5;34m32\u001b[0m)             │       \u001b[38;5;34m157,728\u001b[0m │\n",
              "├─────────────────────────────────┼────────────────────────┼───────────────┤\n",
              "│ leaky_re_lu_1 (\u001b[38;5;33mLeakyReLU\u001b[0m)       │ (\u001b[38;5;45mNone\u001b[0m, \u001b[38;5;34m32\u001b[0m)             │             \u001b[38;5;34m0\u001b[0m │\n",
              "├─────────────────────────────────┼────────────────────────┼───────────────┤\n",
              "│ dropout_1 (\u001b[38;5;33mDropout\u001b[0m)             │ (\u001b[38;5;45mNone\u001b[0m, \u001b[38;5;34m32\u001b[0m)             │             \u001b[38;5;34m0\u001b[0m │\n",
              "├─────────────────────────────────┼────────────────────────┼───────────────┤\n",
              "│ dense_1 (\u001b[38;5;33mDense\u001b[0m)                 │ (\u001b[38;5;45mNone\u001b[0m, \u001b[38;5;34m10\u001b[0m)             │           \u001b[38;5;34m330\u001b[0m │\n",
              "└─────────────────────────────────┴────────────────────────┴───────────────┘\n"
            ],
            "text/html": [
              "<pre style=\"white-space:pre;overflow-x:auto;line-height:normal;font-family:Menlo,'DejaVu Sans Mono',consolas,'Courier New',monospace\">┏━━━━━━━━━━━━━━━━━━━━━━━━━━━━━━━━━┳━━━━━━━━━━━━━━━━━━━━━━━━┳━━━━━━━━━━━━━━━┓\n",
              "┃<span style=\"font-weight: bold\"> Layer (type)                    </span>┃<span style=\"font-weight: bold\"> Output Shape           </span>┃<span style=\"font-weight: bold\">       Param # </span>┃\n",
              "┡━━━━━━━━━━━━━━━━━━━━━━━━━━━━━━━━━╇━━━━━━━━━━━━━━━━━━━━━━━━╇━━━━━━━━━━━━━━━┩\n",
              "│ conv2d (<span style=\"color: #0087ff; text-decoration-color: #0087ff\">Conv2D</span>)                 │ (<span style=\"color: #00d7ff; text-decoration-color: #00d7ff\">None</span>, <span style=\"color: #00af00; text-decoration-color: #00af00\">21</span>, <span style=\"color: #00af00; text-decoration-color: #00af00\">28</span>, <span style=\"color: #00af00; text-decoration-color: #00af00\">32</span>)     │           <span style=\"color: #00af00; text-decoration-color: #00af00\">896</span> │\n",
              "├─────────────────────────────────┼────────────────────────┼───────────────┤\n",
              "│ leaky_re_lu (<span style=\"color: #0087ff; text-decoration-color: #0087ff\">LeakyReLU</span>)         │ (<span style=\"color: #00d7ff; text-decoration-color: #00d7ff\">None</span>, <span style=\"color: #00af00; text-decoration-color: #00af00\">21</span>, <span style=\"color: #00af00; text-decoration-color: #00af00\">28</span>, <span style=\"color: #00af00; text-decoration-color: #00af00\">32</span>)     │             <span style=\"color: #00af00; text-decoration-color: #00af00\">0</span> │\n",
              "├─────────────────────────────────┼────────────────────────┼───────────────┤\n",
              "│ max_pooling2d (<span style=\"color: #0087ff; text-decoration-color: #0087ff\">MaxPooling2D</span>)    │ (<span style=\"color: #00d7ff; text-decoration-color: #00d7ff\">None</span>, <span style=\"color: #00af00; text-decoration-color: #00af00\">11</span>, <span style=\"color: #00af00; text-decoration-color: #00af00\">14</span>, <span style=\"color: #00af00; text-decoration-color: #00af00\">32</span>)     │             <span style=\"color: #00af00; text-decoration-color: #00af00\">0</span> │\n",
              "├─────────────────────────────────┼────────────────────────┼───────────────┤\n",
              "│ dropout (<span style=\"color: #0087ff; text-decoration-color: #0087ff\">Dropout</span>)               │ (<span style=\"color: #00d7ff; text-decoration-color: #00d7ff\">None</span>, <span style=\"color: #00af00; text-decoration-color: #00af00\">11</span>, <span style=\"color: #00af00; text-decoration-color: #00af00\">14</span>, <span style=\"color: #00af00; text-decoration-color: #00af00\">32</span>)     │             <span style=\"color: #00af00; text-decoration-color: #00af00\">0</span> │\n",
              "├─────────────────────────────────┼────────────────────────┼───────────────┤\n",
              "│ flatten (<span style=\"color: #0087ff; text-decoration-color: #0087ff\">Flatten</span>)               │ (<span style=\"color: #00d7ff; text-decoration-color: #00d7ff\">None</span>, <span style=\"color: #00af00; text-decoration-color: #00af00\">4928</span>)           │             <span style=\"color: #00af00; text-decoration-color: #00af00\">0</span> │\n",
              "├─────────────────────────────────┼────────────────────────┼───────────────┤\n",
              "│ dense (<span style=\"color: #0087ff; text-decoration-color: #0087ff\">Dense</span>)                   │ (<span style=\"color: #00d7ff; text-decoration-color: #00d7ff\">None</span>, <span style=\"color: #00af00; text-decoration-color: #00af00\">32</span>)             │       <span style=\"color: #00af00; text-decoration-color: #00af00\">157,728</span> │\n",
              "├─────────────────────────────────┼────────────────────────┼───────────────┤\n",
              "│ leaky_re_lu_1 (<span style=\"color: #0087ff; text-decoration-color: #0087ff\">LeakyReLU</span>)       │ (<span style=\"color: #00d7ff; text-decoration-color: #00d7ff\">None</span>, <span style=\"color: #00af00; text-decoration-color: #00af00\">32</span>)             │             <span style=\"color: #00af00; text-decoration-color: #00af00\">0</span> │\n",
              "├─────────────────────────────────┼────────────────────────┼───────────────┤\n",
              "│ dropout_1 (<span style=\"color: #0087ff; text-decoration-color: #0087ff\">Dropout</span>)             │ (<span style=\"color: #00d7ff; text-decoration-color: #00d7ff\">None</span>, <span style=\"color: #00af00; text-decoration-color: #00af00\">32</span>)             │             <span style=\"color: #00af00; text-decoration-color: #00af00\">0</span> │\n",
              "├─────────────────────────────────┼────────────────────────┼───────────────┤\n",
              "│ dense_1 (<span style=\"color: #0087ff; text-decoration-color: #0087ff\">Dense</span>)                 │ (<span style=\"color: #00d7ff; text-decoration-color: #00d7ff\">None</span>, <span style=\"color: #00af00; text-decoration-color: #00af00\">10</span>)             │           <span style=\"color: #00af00; text-decoration-color: #00af00\">330</span> │\n",
              "└─────────────────────────────────┴────────────────────────┴───────────────┘\n",
              "</pre>\n"
            ]
          },
          "metadata": {}
        },
        {
          "output_type": "display_data",
          "data": {
            "text/plain": [
              "\u001b[1m Total params: \u001b[0m\u001b[38;5;34m158,954\u001b[0m (620.91 KB)\n"
            ],
            "text/html": [
              "<pre style=\"white-space:pre;overflow-x:auto;line-height:normal;font-family:Menlo,'DejaVu Sans Mono',consolas,'Courier New',monospace\"><span style=\"font-weight: bold\"> Total params: </span><span style=\"color: #00af00; text-decoration-color: #00af00\">158,954</span> (620.91 KB)\n",
              "</pre>\n"
            ]
          },
          "metadata": {}
        },
        {
          "output_type": "display_data",
          "data": {
            "text/plain": [
              "\u001b[1m Trainable params: \u001b[0m\u001b[38;5;34m158,954\u001b[0m (620.91 KB)\n"
            ],
            "text/html": [
              "<pre style=\"white-space:pre;overflow-x:auto;line-height:normal;font-family:Menlo,'DejaVu Sans Mono',consolas,'Courier New',monospace\"><span style=\"font-weight: bold\"> Trainable params: </span><span style=\"color: #00af00; text-decoration-color: #00af00\">158,954</span> (620.91 KB)\n",
              "</pre>\n"
            ]
          },
          "metadata": {}
        },
        {
          "output_type": "display_data",
          "data": {
            "text/plain": [
              "\u001b[1m Non-trainable params: \u001b[0m\u001b[38;5;34m0\u001b[0m (0.00 B)\n"
            ],
            "text/html": [
              "<pre style=\"white-space:pre;overflow-x:auto;line-height:normal;font-family:Menlo,'DejaVu Sans Mono',consolas,'Courier New',monospace\"><span style=\"font-weight: bold\"> Non-trainable params: </span><span style=\"color: #00af00; text-decoration-color: #00af00\">0</span> (0.00 B)\n",
              "</pre>\n"
            ]
          },
          "metadata": {}
        }
      ]
    },
    {
      "cell_type": "code",
      "execution_count": null,
      "metadata": {
        "ExecuteTime": {
          "end_time": "2018-11-08T00:16:51.472349Z",
          "start_time": "2018-11-08T00:16:51.406817Z"
        },
        "id": "up9Zcu-XFNGs",
        "colab": {
          "base_uri": "https://localhost:8080/"
        },
        "outputId": "1ef1f364-7663-4960-e3d2-4a9631f797f4"
      },
      "outputs": [
        {
          "output_type": "stream",
          "name": "stderr",
          "text": [
            "/usr/local/lib/python3.11/dist-packages/keras/src/optimizers/base_optimizer.py:86: UserWarning: Argument `decay` is no longer supported and will be ignored.\n",
            "  warnings.warn(\n"
          ]
        }
      ],
      "source": [
        "sport_model.compile(loss=keras.losses.categorical_crossentropy, optimizer=keras.optimizers.Adagrad(learning_rate=INIT_LR, decay=INIT_LR / 100),metrics=['accuracy'])"
      ]
    },
    {
      "cell_type": "markdown",
      "metadata": {
        "id": "yb6h14q1FNGs"
      },
      "source": [
        "# Entrenamos el modelo: Aprende a clasificar imágenes"
      ]
    },
    {
      "cell_type": "markdown",
      "source": [
        "13:44-13:46"
      ],
      "metadata": {
        "id": "o6RCWaPATIKa"
      }
    },
    {
      "cell_type": "code",
      "execution_count": null,
      "metadata": {
        "ExecuteTime": {
          "end_time": "2018-11-08T00:20:49.562522Z",
          "start_time": "2018-11-08T00:16:51.474807Z"
        },
        "id": "02h0FHavFNGs",
        "outputId": "8f8cdbe6-384c-4bc0-b7f9-b3dc17c2eb1a",
        "colab": {
          "base_uri": "https://localhost:8080/"
        }
      },
      "outputs": [
        {
          "output_type": "stream",
          "name": "stdout",
          "text": [
            "Epoch 1/6\n",
            "\u001b[1m772/772\u001b[0m \u001b[32m━━━━━━━━━━━━━━━━━━━━\u001b[0m\u001b[37m\u001b[0m \u001b[1m20s\u001b[0m 24ms/step - accuracy: 0.1637 - loss: 2.2399 - val_accuracy: 0.5236 - val_loss: 1.8398\n",
            "Epoch 2/6\n",
            "\u001b[1m772/772\u001b[0m \u001b[32m━━━━━━━━━━━━━━━━━━━━\u001b[0m\u001b[37m\u001b[0m \u001b[1m18s\u001b[0m 21ms/step - accuracy: 0.3528 - loss: 1.8748 - val_accuracy: 0.6241 - val_loss: 1.4907\n",
            "Epoch 3/6\n",
            "\u001b[1m772/772\u001b[0m \u001b[32m━━━━━━━━━━━━━━━━━━━━\u001b[0m\u001b[37m\u001b[0m \u001b[1m18s\u001b[0m 23ms/step - accuracy: 0.4392 - loss: 1.6367 - val_accuracy: 0.6648 - val_loss: 1.2881\n",
            "Epoch 4/6\n",
            "\u001b[1m772/772\u001b[0m \u001b[32m━━━━━━━━━━━━━━━━━━━━\u001b[0m\u001b[37m\u001b[0m \u001b[1m19s\u001b[0m 21ms/step - accuracy: 0.5011 - loss: 1.4777 - val_accuracy: 0.6926 - val_loss: 1.1469\n",
            "Epoch 5/6\n",
            "\u001b[1m772/772\u001b[0m \u001b[32m━━━━━━━━━━━━━━━━━━━━\u001b[0m\u001b[37m\u001b[0m \u001b[1m20s\u001b[0m 21ms/step - accuracy: 0.5389 - loss: 1.3656 - val_accuracy: 0.7273 - val_loss: 1.0556\n",
            "Epoch 6/6\n",
            "\u001b[1m772/772\u001b[0m \u001b[32m━━━━━━━━━━━━━━━━━━━━\u001b[0m\u001b[37m\u001b[0m \u001b[1m16s\u001b[0m 21ms/step - accuracy: 0.5626 - loss: 1.2909 - val_accuracy: 0.7412 - val_loss: 0.9818\n"
          ]
        }
      ],
      "source": [
        "# este paso puede tomar varios minutos, dependiendo de tu ordenador, cpu y memoria ram libre\n",
        "# como ejemplo, en mi Macbook pro tarda 4 minutos\n",
        "sport_train = sport_model.fit(train_X, train_label, batch_size=batch_size,epochs=epochs,verbose=1,validation_data=(valid_X, valid_label))"
      ]
    },
    {
      "cell_type": "code",
      "execution_count": null,
      "metadata": {
        "ExecuteTime": {
          "end_time": "2018-11-08T00:20:49.676566Z",
          "start_time": "2018-11-08T00:20:49.566203Z"
        },
        "id": "gvbQp6-dFNGt"
      },
      "outputs": [],
      "source": [
        "# guardamos la red, para reutilizarla en el futuro, sin tener que volver a entrenar\n",
        "sport_model.save(\"sports_mnist.keras\")"
      ]
    },
    {
      "cell_type": "markdown",
      "metadata": {
        "id": "OsAXp7wuFNGt"
      },
      "source": [
        "# Evaluamos la red"
      ]
    },
    {
      "cell_type": "code",
      "execution_count": null,
      "metadata": {
        "ExecuteTime": {
          "end_time": "2018-11-08T00:20:54.462929Z",
          "start_time": "2018-11-08T00:20:49.678643Z"
        },
        "id": "YYdeK35dFNGt",
        "outputId": "7ca37ad0-23b1-4dcd-c7e9-df9c8d787099",
        "colab": {
          "base_uri": "https://localhost:8080/"
        }
      },
      "outputs": [
        {
          "output_type": "stream",
          "name": "stdout",
          "text": [
            "\u001b[1m483/483\u001b[0m \u001b[32m━━━━━━━━━━━━━━━━━━━━\u001b[0m\u001b[37m\u001b[0m \u001b[1m2s\u001b[0m 4ms/step - accuracy: 0.7367 - loss: 0.9973\n"
          ]
        }
      ],
      "source": [
        "test_eval = sport_model.evaluate(test_X, test_Y_one_hot, verbose=1)"
      ]
    },
    {
      "cell_type": "code",
      "execution_count": null,
      "metadata": {
        "ExecuteTime": {
          "end_time": "2018-11-08T00:20:54.474683Z",
          "start_time": "2018-11-08T00:20:54.465378Z"
        },
        "id": "qv4qTIzpFNGt",
        "outputId": "298787c1-c4ff-439f-a28e-d847d91bbf9e",
        "colab": {
          "base_uri": "https://localhost:8080/"
        }
      },
      "outputs": [
        {
          "output_type": "stream",
          "name": "stdout",
          "text": [
            "Test loss: 0.9860777258872986\n",
            "Test accuracy: 0.743355393409729\n"
          ]
        }
      ],
      "source": [
        "print('Test loss:', test_eval[0])\n",
        "print('Test accuracy:', test_eval[1])"
      ]
    },
    {
      "cell_type": "code",
      "execution_count": null,
      "metadata": {
        "ExecuteTime": {
          "end_time": "2018-11-08T00:20:55.014647Z",
          "start_time": "2018-11-08T00:20:54.479693Z"
        },
        "scrolled": false,
        "id": "IcFmDhScFNGt",
        "outputId": "053e9532-4ffd-4574-d0ff-e935294b0b40",
        "colab": {
          "base_uri": "https://localhost:8080/",
          "height": 887
        }
      },
      "outputs": [
        {
          "output_type": "display_data",
          "data": {
            "text/plain": [
              "<Figure size 640x480 with 1 Axes>"
            ],
            "image/png": "[encoded data removed]"
          },
          "metadata": {}
        },
        {
          "output_type": "display_data",
          "data": {
            "text/plain": [
              "<Figure size 640x480 with 1 Axes>"
            ],
            "image/png": "[encoded data removed]"
          },
          "metadata": {}
        }
      ],
      "source": [
        "accuracy = sport_train.history['accuracy']\n",
        "val_accuracy = sport_train.history['val_accuracy']\n",
        "loss = sport_train.history['loss']\n",
        "val_loss = sport_train.history['val_loss']\n",
        "epochs = range(len(accuracy))\n",
        "plt.plot(epochs, accuracy, 'bo', label='Training accuracy')\n",
        "plt.plot(epochs, val_accuracy, 'b', label='Validation accuracy')\n",
        "plt.title('Training and validation accuracy')\n",
        "plt.legend()\n",
        "plt.figure()\n",
        "plt.plot(epochs, loss, 'bo', label='Training loss')\n",
        "plt.plot(epochs, val_loss, 'b', label='Validation loss')\n",
        "plt.title('Training and validation loss')\n",
        "plt.legend()\n",
        "plt.show()"
      ]
    },
    {
      "cell_type": "code",
      "execution_count": null,
      "metadata": {
        "ExecuteTime": {
          "end_time": "2018-11-08T00:20:58.050602Z",
          "start_time": "2018-11-08T00:20:55.021862Z"
        },
        "id": "puueI6hDFNGt",
        "colab": {
          "base_uri": "https://localhost:8080/"
        },
        "outputId": "6893bcf1-c88a-469a-a440-d5333df662b7"
      },
      "outputs": [
        {
          "output_type": "stream",
          "name": "stdout",
          "text": [
            "\u001b[1m483/483\u001b[0m \u001b[32m━━━━━━━━━━━━━━━━━━━━\u001b[0m\u001b[37m\u001b[0m \u001b[1m2s\u001b[0m 3ms/step\n"
          ]
        }
      ],
      "source": [
        "predicted_classes2 = sport_model.predict(test_X)"
      ]
    },
    {
      "cell_type": "code",
      "execution_count": null,
      "metadata": {
        "ExecuteTime": {
          "end_time": "2018-11-08T00:20:58.262575Z",
          "start_time": "2018-11-08T00:20:58.052878Z"
        },
        "id": "41gK7NlBFNGt"
      },
      "outputs": [],
      "source": [
        "predicted_classes=[]\n",
        "for predicted_sport in predicted_classes2:\n",
        "    predicted_classes.append(predicted_sport.tolist().index(max(predicted_sport)))\n",
        "predicted_classes=np.array(predicted_classes)"
      ]
    },
    {
      "cell_type": "code",
      "execution_count": null,
      "metadata": {
        "ExecuteTime": {
          "end_time": "2018-11-08T00:20:58.272559Z",
          "start_time": "2018-11-08T00:20:58.264703Z"
        },
        "id": "Yp_-JTjSFNGu",
        "outputId": "360e9774-93ad-4c9e-b6c5-e55e7be8b1f6",
        "colab": {
          "base_uri": "https://localhost:8080/"
        }
      },
      "outputs": [
        {
          "output_type": "execute_result",
          "data": {
            "text/plain": [
              "((15426,), (15426,))"
            ]
          },
          "metadata": {},
          "execution_count": 43
        }
      ],
      "source": [
        "predicted_classes.shape, test_Y.shape"
      ]
    },
    {
      "cell_type": "markdown",
      "metadata": {
        "id": "E0JFfYz-FNGu"
      },
      "source": [
        "# Aprendamos de los errores: Qué mejorar"
      ]
    },
    {
      "cell_type": "code",
      "execution_count": null,
      "metadata": {
        "ExecuteTime": {
          "end_time": "2018-11-08T00:20:59.822110Z",
          "start_time": "2018-11-08T00:20:58.275464Z"
        },
        "id": "JHlRRQE-FNGu",
        "outputId": "d40c7276-0cf2-4bc5-c33c-2c790e7cdddf",
        "colab": {
          "base_uri": "https://localhost:8080/",
          "height": 504
        }
      },
      "outputs": [
        {
          "output_type": "stream",
          "name": "stdout",
          "text": [
            "Found 11467 correct labels\n"
          ]
        },
        {
          "output_type": "display_data",
          "data": {
            "text/plain": [
              "<Figure size 640x480 with 9 Axes>"
            ],
            "image/png": "[encoded data removed]"
          },
          "metadata": {}
        }
      ],
      "source": [
        "correct = np.where(predicted_classes==test_Y)[0]\n",
        "print(\"Found %d correct labels\" % len(correct))\n",
        "for i, correct in enumerate(correct[0:9]):\n",
        "    plt.subplot(3,3,i+1)\n",
        "    plt.imshow(test_X[correct].reshape(21,28,3), cmap='gray', interpolation='none')\n",
        "    plt.title(\"{}, {}\".format(deportes[predicted_classes[correct]],\n",
        "                                                    deportes[test_Y[correct]]))\n",
        "\n",
        "    plt.tight_layout()"
      ]
    },
    {
      "cell_type": "code",
      "execution_count": null,
      "metadata": {
        "ExecuteTime": {
          "end_time": "2018-11-08T00:21:00.942267Z",
          "start_time": "2018-11-08T00:20:59.829572Z"
        },
        "id": "17yNFLJ4FNGu",
        "outputId": "54847b1e-a52d-48e9-cc68-555c4188d8dd",
        "colab": {
          "base_uri": "https://localhost:8080/",
          "height": 504
        }
      },
      "outputs": [
        {
          "output_type": "stream",
          "name": "stdout",
          "text": [
            "Found 3959 incorrect labels\n"
          ]
        },
        {
          "output_type": "display_data",
          "data": {
            "text/plain": [
              "<Figure size 640x480 with 9 Axes>"
            ],
            "image/png": "[encoded data removed]"
          },
          "metadata": {}
        }
      ],
      "source": [
        "incorrect = np.where(predicted_classes!=test_Y)[0]\n",
        "print(\"Found %d incorrect labels\" % len(incorrect))\n",
        "for i, incorrect in enumerate(incorrect[0:9]):\n",
        "    plt.subplot(3,3,i+1)\n",
        "    plt.imshow(test_X[incorrect].reshape(21,28,3), cmap='gray', interpolation='none')\n",
        "    plt.title(\"{}, {}\".format(deportes[predicted_classes[incorrect]],\n",
        "                                                    deportes[test_Y[incorrect]]))\n",
        "    plt.tight_layout()"
      ]
    },
    {
      "cell_type": "code",
      "execution_count": null,
      "metadata": {
        "ExecuteTime": {
          "end_time": "2018-11-08T00:21:00.968727Z",
          "start_time": "2018-11-08T00:21:00.947262Z"
        },
        "id": "_Ac9xx_fFNGz",
        "outputId": "271bea48-3f5a-4eb9-8ac9-8822b121e28e",
        "colab": {
          "base_uri": "https://localhost:8080/"
        }
      },
      "outputs": [
        {
          "output_type": "stream",
          "name": "stdout",
          "text": [
            "              precision    recall  f1-score   support\n",
            "\n",
            "     Class 0       0.50      0.92      0.64      1973\n",
            "     Class 1       0.67      0.82      0.74      1745\n",
            "     Class 2       0.96      1.00      0.98      1776\n",
            "     Class 3       0.93      0.91      0.92      1009\n",
            "     Class 4       0.93      0.99      0.96      1493\n",
            "     Class 5       0.85      0.47      0.61      1573\n",
            "     Class 6       0.94      0.74      0.83      1544\n",
            "     Class 7       0.56      0.49      0.52      1845\n",
            "     Class 8       0.97      0.07      0.14      1018\n",
            "     Class 9       0.82      0.84      0.83      1450\n",
            "\n",
            "    accuracy                           0.74     15426\n",
            "   macro avg       0.81      0.72      0.72     15426\n",
            "weighted avg       0.79      0.74      0.73     15426\n",
            "\n"
          ]
        }
      ],
      "source": [
        "target_names = [\"Class {}\".format(i) for i in range(nClasses)]\n",
        "print(classification_report(test_Y, predicted_classes, target_names=target_names))"
      ]
    },
    {
      "cell_type": "markdown",
      "metadata": {
        "id": "Ve5tWLw2FNGz"
      },
      "source": [
        "# Predicción de una nueva imagen"
      ]
    },
    {
      "cell_type": "code",
      "execution_count": null,
      "metadata": {
        "id": "W6wATh_1FNGz",
        "colab": {
          "base_uri": "https://localhost:8080/"
        },
        "outputId": "d915f932-9406-4ee1-9d34-a1fd6f96e83e"
      },
      "outputs": [
        {
          "output_type": "stream",
          "name": "stdout",
          "text": [
            "\u001b[1m1/1\u001b[0m \u001b[32m━━━━━━━━━━━━━━━━━━━━\u001b[0m\u001b[37m\u001b[0m \u001b[1m0s\u001b[0m 29ms/step\n",
            "/content/drive/MyDrive/2025_2/VISION_DUPD/Base_de_datos/sportimages/sportimages/test/nueva_imagen_tenis.jpg tenis\n",
            "/content/drive/MyDrive/2025_2/VISION_DUPD/Base_de_datos/sportimages/sportimages/test/nueva_imagen_natacion.jpg natacion\n"
          ]
        }
      ],
      "source": [
        "from skimage.transform import resize\n",
        "\n",
        "images=[]\n",
        "# AQUI ESPECIFICAMOS UNAS IMAGENES\n",
        "filenames = ['/content/drive/MyDrive/2025_2/VISION_DUPD/Base_de_datos/sportimages/sportimages/test/nueva_imagen_tenis.jpg',\n",
        "             '/content/drive/MyDrive/2025_2/VISION_DUPD/Base_de_datos/sportimages/sportimages/test/nueva_imagen_natacion.jpg',\n",
        "             ]\n",
        "\n",
        "for filepath in filenames:\n",
        "    image = plt.imread(filepath,0)\n",
        "    image_resized = resize(image, (21, 28),anti_aliasing=True,clip=False,preserve_range=True)\n",
        "    images.append(image_resized)\n",
        "\n",
        "X = np.array(images, dtype=np.uint8) #convierto de lista a numpy\n",
        "test_X = X.astype('float32')\n",
        "test_X = test_X / 255.\n",
        "\n",
        "predicted_classes = sport_model.predict(test_X)\n",
        "\n",
        "for i, img_tagged in enumerate(predicted_classes):\n",
        "    print(filenames[i], deportes[img_tagged.tolist().index(max(img_tagged))])"
      ]
    }
  ],
  "metadata": {
    "kernelspec": {
      "display_name": "Python 3",
      "language": "python",
      "name": "python3"
    },
    "language_info": {
      "codemirror_mode": {
        "name": "ipython",
        "version": 3
      },
      "file_extension": ".py",
      "mimetype": "text/x-python",
      "name": "python",
      "nbconvert_exporter": "python",
      "pygments_lexer": "ipython3",
      "version": "3.6.7"
    },
    "colab": {
      "provenance": [],
      "include_colab_link": true
    }
  },
  "nbformat": 4,
  "nbformat_minor": 0
}