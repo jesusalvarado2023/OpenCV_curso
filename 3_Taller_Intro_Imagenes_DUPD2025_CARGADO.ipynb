{
  "cells": [
    {
      "cell_type": "markdown",
      "metadata": {
        "id": "view-in-github",
        "colab_type": "text"
      },
      "source": [
        "<a href=\"https://colab.research.google.com/github/jesusalvarado2023/OpenCV_curso/blob/main/3_Taller_Intro_Imagenes_DUPD2025_CARGADO.ipynb\" target=\"_parent\"><img src=\"https://colab.research.google.com/assets/colab-badge.svg\" alt=\"Open In Colab\"/></a>"
      ]
    },
    {
      "cell_type": "markdown",
      "source": [
        "<img src=\"https://miro.medium.com/v2/resize:fit:1400/1*zomnCz8-VMgrSV8eLCx2tw.gif\" width=\"200\" alt=\"molecula\"  />\n",
        "\n",
        "$$\\Large \\textit{Cuaderno de Código | Taller Nº 1}$$\n",
        "\n",
        "---\n",
        "$$\\large\\textbf{3. Cargado de modelo CNN}$$\n",
        "\n",
        "---\n",
        "$$\\textit{Curso: Aplicaciones de IA en Imágenes para Docentes Universitarios}$$\n",
        "\n",
        "<br>\n",
        "<br>\n",
        "\n",
        "__Dr. Jesus Alvarado-Huayhuaz__"
      ],
      "metadata": {
        "id": "Jt4pqMk12FF4"
      }
    },
    {
      "cell_type": "markdown",
      "metadata": {
        "id": "IWmnh3XsFNGf"
      },
      "source": [
        "# Convolutional Neural Networks"
      ]
    },
    {
      "cell_type": "markdown",
      "metadata": {
        "id": "9Dn6y0M0FNGk"
      },
      "source": [
        "# Importar Librerías"
      ]
    },
    {
      "cell_type": "code",
      "source": [
        "from google.colab import drive\n",
        "drive.mount('/content/drive')"
      ],
      "metadata": {
        "colab": {
          "base_uri": "https://localhost:8080/"
        },
        "id": "UZ2sm5g0HR5P",
        "outputId": "f52f5723-44d2-4176-aa99-a1740817c364"
      },
      "execution_count": null,
      "outputs": [
        {
          "output_type": "stream",
          "name": "stdout",
          "text": [
            "Mounted at /content/drive\n"
          ]
        }
      ]
    },
    {
      "cell_type": "markdown",
      "metadata": {
        "id": "nhkKn8GvFNGn"
      },
      "source": [
        "# Cargar set de Imágenes"
      ]
    },
    {
      "cell_type": "code",
      "source": [
        "# Ubicate en la carpeta \"sportimages\" donde se encuentran contenidas las\n",
        "# carpetas tenis, natacion, golf, etc. y también el archivo \"sports_minst.keras\"\n",
        "\n",
        "%cd /content/drive/MyDrive/2025_2/VISION_DUPD/Base_de_datos/sportimages/sportimages"
      ],
      "metadata": {
        "colab": {
          "base_uri": "https://localhost:8080/"
        },
        "id": "bDB_5XIpIP34",
        "outputId": "f62baf28-9846-4158-c3c2-9b2c35aa2d5e"
      },
      "execution_count": null,
      "outputs": [
        {
          "output_type": "stream",
          "name": "stdout",
          "text": [
            "/content/drive/MyDrive/2025_2/VISION_DUPD/Base_de_datos/sportimages/sportimages\n"
          ]
        }
      ]
    },
    {
      "cell_type": "code",
      "source": [
        "!ls"
      ],
      "metadata": {
        "colab": {
          "base_uri": "https://localhost:8080/"
        },
        "id": "cwqKtfR7bt97",
        "outputId": "568737c8-0ff2-420d-ebca-ed7991bfceab"
      },
      "execution_count": null,
      "outputs": [
        {
          "output_type": "stream",
          "name": "stdout",
          "text": [
            "americano  ciclismo  natacion\t\t\t\t\t   test\n",
            "basket\t   f1\t     sports_mnist.keras\n",
            "beisball   futbol    Taller_Intro_Imagenes_DUPD2025_CARGADO.ipynb\n",
            "boxeo\t   golf      tenis\n"
          ]
        }
      ]
    },
    {
      "cell_type": "code",
      "source": [
        "import os\n",
        "from tensorflow.keras.models import load_model\n",
        "\n",
        "# Load the model\n",
        "loaded_model = load_model('sports_mnist.keras')\n",
        "\n",
        "print(\"Model loaded successfully!\")"
      ],
      "metadata": {
        "colab": {
          "base_uri": "https://localhost:8080/"
        },
        "id": "_dBVQEb6IfxM",
        "outputId": "6613745f-27c4-468b-9263-958b454281f7"
      },
      "execution_count": null,
      "outputs": [
        {
          "output_type": "stream",
          "name": "stdout",
          "text": [
            "Model loaded successfully!\n"
          ]
        }
      ]
    },
    {
      "cell_type": "code",
      "source": [
        "import matplotlib.pyplot as plt\n",
        "import numpy as np\n",
        "from skimage.transform import resize\n",
        "import os\n",
        "\n",
        "deportes = ['golf', 'basket', 'tenis', 'natacion', 'ciclismo', 'beisball', 'futbol', 'americano', 'f1', 'boxeo']\n",
        "\n",
        "# Define the path to your new image\n",
        "# Make sure 'nueva_imagen.jpg' is in the correct directory relative to your current location\n",
        "image_path = 'test/nueva_imagen_tenis.jpg' # Update this path if your image is elsewhere\n",
        "\n",
        "# Load the image\n",
        "try:\n",
        "    image = plt.imread(image_path)\n",
        "except FileNotFoundError:\n",
        "    print(f\"Error: The file {image_path} was not found.\")\n",
        "    print(\"Please check the path to your image.\")\n",
        "    # You might want to stop execution here or handle the error appropriately\n",
        "    exit() # Exit the cell execution if the file is not found\n",
        "\n",
        "# Resize the image to match the input shape of the model\n",
        "image_resized = resize(image, (21, 28), anti_aliasing=True, clip=False, preserve_range=True)\n",
        "\n",
        "# Preprocess the image (convert to float32 and normalize)\n",
        "processed_image = np.array([image_resized], dtype=np.float32) # Add a batch dimension\n",
        "processed_image = processed_image / 255.\n",
        "\n",
        "# Use the loaded model to predict the class\n",
        "predicted_probabilities = loaded_model.predict(processed_image)\n",
        "\n",
        "# Get the predicted class index\n",
        "predicted_class_index = np.argmax(predicted_probabilities)\n",
        "\n",
        "# Get the name of the predicted sport (assuming 'deportes' list is available)\n",
        "# Make sure the 'deportes' list from the previous notebook is available in this new notebook\n",
        "if 'deportes' in globals():\n",
        "    predicted_sport = deportes[predicted_class_index]\n",
        "    print(f\"The predicted sport for {image_path} is: {predicted_sport}\")\n",
        "else:\n",
        "    print(f\"Predicted class index: {predicted_class_index}\")\n",
        "    print(\"The 'deportes' list is not available to get the sport name.\")"
      ],
      "metadata": {
        "id": "vnJylHHBcPPh",
        "colab": {
          "base_uri": "https://localhost:8080/"
        },
        "outputId": "5bf45ae0-24d9-4672-8841-e870547ea4c1"
      },
      "execution_count": null,
      "outputs": [
        {
          "output_type": "stream",
          "name": "stdout",
          "text": [
            "\u001b[1m1/1\u001b[0m \u001b[32m━━━━━━━━━━━━━━━━━━━━\u001b[0m\u001b[37m\u001b[0m \u001b[1m0s\u001b[0m 78ms/step\n",
            "The predicted sport for test/nueva_imagen_tenis.jpg is: tenis\n"
          ]
        }
      ]
    }
  ],
  "metadata": {
    "kernelspec": {
      "display_name": "Python 3",
      "language": "python",
      "name": "python3"
    },
    "language_info": {
      "codemirror_mode": {
        "name": "ipython",
        "version": 3
      },
      "file_extension": ".py",
      "mimetype": "text/x-python",
      "name": "python",
      "nbconvert_exporter": "python",
      "pygments_lexer": "ipython3",
      "version": "3.6.7"
    },
    "colab": {
      "provenance": [],
      "toc_visible": true,
      "include_colab_link": true
    }
  },
  "nbformat": 4,
  "nbformat_minor": 0
}